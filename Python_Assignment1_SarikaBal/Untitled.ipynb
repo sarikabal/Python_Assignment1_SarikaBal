{
 "cells": [
  {
   "cell_type": "code",
   "execution_count": null,
   "metadata": {},
   "outputs": [],
   "source": [
    "Q. Write a Python program to replace last value of tuples in a list."
   ]
  },
  {
   "cell_type": "code",
   "execution_count": 1,
   "metadata": {},
   "outputs": [
    {
     "name": "stdout",
     "output_type": "stream",
     "text": [
      "[(10, 20, 100), (40, 50, 100), (70, 80, 100)]\n"
     ]
    }
   ],
   "source": [
    "#Solution\n",
    "x = [(10, 20, 40),(40, 50, 60),(70, 80, 90)]\n",
    "print([t[:-1]+(100,)for t in x])"
   ]
  },
  {
   "cell_type": "code",
   "execution_count": null,
   "metadata": {},
   "outputs": [],
   "source": [
    "Q. You are given a string and your task is to swap cases.In other words, convert all lowercase letters to \n",
    "uppercase letters and vice versa."
   ]
  },
  {
   "cell_type": "code",
   "execution_count": 2,
   "metadata": {},
   "outputs": [
    {
     "name": "stdout",
     "output_type": "stream",
     "text": [
      "tHIS IS Me SARIKA\n"
     ]
    }
   ],
   "source": [
    "#Solution\n",
    "x='This is mE sarika'\n",
    "print(x.swapcase())"
   ]
  },
  {
   "cell_type": "code",
   "execution_count": null,
   "metadata": {},
   "outputs": [],
   "source": [
    "Q. The user enters a string and a substring. You have to print the number of times that the substringoccurs in \n",
    "the given string. String traversal will take place from left to right, not from right to left."
   ]
  },
  {
   "cell_type": "code",
   "execution_count": 3,
   "metadata": {},
   "outputs": [
    {
     "data": {
      "text/plain": [
       "2"
      ]
     },
     "execution_count": 3,
     "metadata": {},
     "output_type": "execute_result"
    }
   ],
   "source": [
    "#Solution\n",
    "string = input(\"Enter the strings:\")\n",
    "substring = input(\"Enter the substrings:\")\n",
    "count = string.count(substring)\n",
    "count"
   ]
  },
  {
   "cell_type": "code",
   "execution_count": null,
   "metadata": {},
   "outputs": [],
   "source": [
    "Q. Write a class in which its one method accepts a string from console and another method to print the characters \n",
    "that have even indexes."
   ]
  },
  {
   "cell_type": "code",
   "execution_count": 4,
   "metadata": {},
   "outputs": [
    {
     "name": "stdout",
     "output_type": "stream",
     "text": [
      "S94r7k"
     ]
    }
   ],
   "source": [
    "#Solution\n",
    "class Indexes:\n",
    "    def __init__(self):\n",
    "        self.string=\"\"\n",
    "        \n",
    "    def get(self):\n",
    "        string = input(\"Enter the characters:\")\n",
    "        for index in range(len(string)):\n",
    "            if(index % 2 ==0):       #checks the even indexes and print it\n",
    "                print(string[index], end=\"\")\n",
    "obj = Indexes()\n",
    "obj.get()"
   ]
  }
 ],
 "metadata": {
  "kernelspec": {
   "display_name": "Python 3",
   "language": "python",
   "name": "python3"
  },
  "language_info": {
   "codemirror_mode": {
    "name": "ipython",
    "version": 3
   },
   "file_extension": ".py",
   "mimetype": "text/x-python",
   "name": "python",
   "nbconvert_exporter": "python",
   "pygments_lexer": "ipython3",
   "version": "3.6.5"
  }
 },
 "nbformat": 4,
 "nbformat_minor": 2
}
